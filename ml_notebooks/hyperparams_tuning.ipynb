{
 "cells": [
  {
   "cell_type": "markdown",
   "metadata": {},
   "source": [
    "## Imports"
   ]
  },
  {
   "cell_type": "code",
   "execution_count": 18,
   "metadata": {},
   "outputs": [],
   "source": [
    "import pandas as pd\n",
    "from sklearn.model_selection import train_test_split, KFold, GridSearchCV, cross_val_score\n",
    "from sklearn import svm\n",
    "from sklearn.linear_model import LogisticRegression, LinearRegression\n",
    "from numpy import mean, std\n",
    "from sklearn.ensemble import RandomForestClassifier\n",
    "from sklearn.neighbors import KNeighborsClassifier"
   ]
  },
  {
   "cell_type": "markdown",
   "metadata": {},
   "source": [
    "## Local Options"
   ]
  },
  {
   "cell_type": "code",
   "execution_count": 19,
   "metadata": {
    "scrolled": true
   },
   "outputs": [],
   "source": [
    "local_options = {\n",
    "    \"plot_confusion\": True,\n",
    "    \"multi_class\"   : True,\n",
    "    \"k_fold_value\"  : 5,\n",
    "    \"scoring\"       : 'f1_macro',\n",
    "    \"parallel_jobs\" : 8\n",
    "    }"
   ]
  },
  {
   "cell_type": "markdown",
   "metadata": {},
   "source": [
    "## Dataset Loading"
   ]
  },
  {
   "cell_type": "code",
   "execution_count": 20,
   "metadata": {},
   "outputs": [],
   "source": [
    "# read dataframe from...\n",
    "df = pd.read_csv('ml_dataset.csv')\n",
    "#df.head()\n",
    "y = df.Sensor\n",
    "X = df.drop(['Type', 'Sensor'] , axis=1)\n",
    "#.3 split\n",
    "X_train, X_test, y_train, y_test = train_test_split(X, y, test_size=0.30, random_state=8675309, shuffle=True)"
   ]
  },
  {
   "cell_type": "markdown",
   "metadata": {},
   "source": [
    "## Grid search wrapper functions"
   ]
  },
  {
   "cell_type": "code",
   "execution_count": 21,
   "metadata": {},
   "outputs": [],
   "source": [
    "def kfold_grid_search(X_train, y_train, parameters, model):\n",
    "    print('Grid Search started...')\n",
    "    cross_validator = KFold(n_splits=5, random_state=405782, shuffle=True)\n",
    "    grid = GridSearchCV(estimator=model, param_grid=parameters, n_jobs=8, cv=cross_validator, scoring=local_options['scoring'])\n",
    "    return grid.fit(X_test,y_test)\n",
    "\n",
    "def print_search_results(res):\n",
    "    print(\"Best: %f using %s\" % (res.best_score_, res.best_params_))\n",
    "    means = res.cv_results_['mean_test_score']\n",
    "    stds = res.cv_results_['std_test_score']\n",
    "    params = res.cv_results_['params']\n",
    "    for mean, stdev, param in zip(means, stds, params):\n",
    "        print(\"%f (%f) with: %r\" % (mean, stdev, param))\n",
    "    return"
   ]
  },
  {
   "cell_type": "markdown",
   "metadata": {},
   "source": [
    "## Support Vector Machine\n",
    "Tuning using __grid search__ for both _linear_ and _poly_ kernel with logarithmic _C_"
   ]
  },
  {
   "cell_type": "code",
   "execution_count": null,
   "metadata": {
    "scrolled": false
   },
   "outputs": [
    {
     "name": "stdout",
     "output_type": "stream",
     "text": [
      "Grid Search started...\n"
     ]
    }
   ],
   "source": [
    "kernel = ['linear', 'poly','rbf']#, 'rbf', 'sigmoid']\n",
    "C = [50, 10, 1.0, 0.1, 0.01]\n",
    "#gamma = ['scale']\n",
    "p_span = dict(kernel=kernel,C=C)#,gamma=gamma)\n",
    "\n",
    "svc = svm.SVC()\n",
    "svc_search_result = kfold_grid_search(X_train, y_train, p_span, svc)\n",
    "\n",
    "print_search_results(svc_search_result)\n"
   ]
  },
  {
   "cell_type": "markdown",
   "metadata": {},
   "source": [
    "## Logistic Regression"
   ]
  },
  {
   "cell_type": "code",
   "execution_count": 22,
   "metadata": {},
   "outputs": [
    {
     "name": "stdout",
     "output_type": "stream",
     "text": [
      "Grid Search started...\n"
     ]
    },
    {
     "name": "stderr",
     "output_type": "stream",
     "text": [
      "/home/antedo/.local/lib/python3.6/site-packages/sklearn/model_selection/_search.py:921: UserWarning: One or more of the test scores are non-finite: [0.51913489 0.51267291 0.51405253 0.51274103        nan        nan\n",
      " 0.51662218 0.51248004 0.51251686 0.51199788        nan        nan]\n",
      "  category=UserWarning\n"
     ]
    },
    {
     "name": "stdout",
     "output_type": "stream",
     "text": [
      "Best: 0.519135 using {'C': 1000, 'penalty': 'l1', 'solver': 'liblinear'}\n",
      "0.519135 (0.006812) with: {'C': 1000, 'penalty': 'l1', 'solver': 'liblinear'}\n",
      "0.512673 (0.006785) with: {'C': 1000, 'penalty': 'l1', 'solver': 'saga'}\n",
      "0.514053 (0.006602) with: {'C': 1000, 'penalty': 'l2', 'solver': 'liblinear'}\n",
      "0.512741 (0.006923) with: {'C': 1000, 'penalty': 'l2', 'solver': 'saga'}\n",
      "nan (nan) with: {'C': 1000, 'penalty': 'elasticnet', 'solver': 'liblinear'}\n",
      "nan (nan) with: {'C': 1000, 'penalty': 'elasticnet', 'solver': 'saga'}\n",
      "0.516622 (0.005282) with: {'C': 100, 'penalty': 'l1', 'solver': 'liblinear'}\n",
      "0.512480 (0.007166) with: {'C': 100, 'penalty': 'l1', 'solver': 'saga'}\n",
      "0.512517 (0.006470) with: {'C': 100, 'penalty': 'l2', 'solver': 'liblinear'}\n",
      "0.511998 (0.007278) with: {'C': 100, 'penalty': 'l2', 'solver': 'saga'}\n",
      "nan (nan) with: {'C': 100, 'penalty': 'elasticnet', 'solver': 'liblinear'}\n",
      "nan (nan) with: {'C': 100, 'penalty': 'elasticnet', 'solver': 'saga'}\n"
     ]
    }
   ],
   "source": [
    "#grid definition\n",
    "#solvers = ['newton-cg', 'lbfgs', 'liblinear']\n",
    "solvers = ['liblinear', 'saga']\n",
    "penalty = ['l1', 'l2', 'elasticnet']\n",
    "c_values = [1000, 100]\n",
    "param_grid = dict(solver=solvers,penalty=penalty,C=c_values)\n",
    "\n",
    "logreg = LogisticRegression()\n",
    "lgrg_search_results = kfold_grid_search(X_train, y_train, param_grid, logreg)\n",
    "print_search_results(lgrg_search_results)"
   ]
  },
  {
   "cell_type": "markdown",
   "metadata": {},
   "source": [
    "## Linear Regression\n",
    "Actually does not need tuning"
   ]
  },
  {
   "cell_type": "code",
   "execution_count": 10,
   "metadata": {},
   "outputs": [
    {
     "name": "stdout",
     "output_type": "stream",
     "text": [
      "accuracy: nan (nan)\n"
     ]
    }
   ],
   "source": [
    "# evaluate a logistic regression model using k-fold cross-validation\n",
    "\n",
    "# prepare the cross-validation procedure\n",
    "cv = KFold(n_splits=5, random_state=405782, shuffle=True)\n",
    "# create model\n",
    "model = LinearRegression()\n",
    "# evaluate model\n",
    "scores = cross_val_score(model, X_train, y_train, scoring=local_options['scoring'], cv=cv, n_jobs=-1)\n",
    "# report performance\n",
    "print('%s: %.3f (%.3f)' % (local_options['scoring'],mean(scores), std(scores)))"
   ]
  },
  {
   "cell_type": "markdown",
   "metadata": {},
   "source": [
    "## Random Forest"
   ]
  },
  {
   "cell_type": "code",
   "execution_count": 23,
   "metadata": {},
   "outputs": [
    {
     "name": "stdout",
     "output_type": "stream",
     "text": [
      "Grid Search started...\n"
     ]
    },
    {
     "name": "stderr",
     "output_type": "stream",
     "text": [
      "/home/antedo/.local/lib/python3.6/site-packages/joblib/externals/loky/process_executor.py:691: UserWarning: A worker stopped while some jobs were given to the executor. This can be caused by a too short worker timeout or by a memory leak.\n",
      "  \"timeout or by a memory leak.\", UserWarning\n"
     ]
    },
    {
     "name": "stdout",
     "output_type": "stream",
     "text": [
      "Best: 0.613925 using {'max_features': 'log2', 'n_estimators': 5000}\n",
      "0.603317 (0.008591) with: {'max_features': 'sqrt', 'n_estimators': 10}\n",
      "0.613650 (0.009961) with: {'max_features': 'sqrt', 'n_estimators': 100}\n",
      "0.613239 (0.008575) with: {'max_features': 'sqrt', 'n_estimators': 1000}\n",
      "0.613765 (0.009541) with: {'max_features': 'sqrt', 'n_estimators': 5000}\n",
      "0.605166 (0.009663) with: {'max_features': 'log2', 'n_estimators': 10}\n",
      "0.611823 (0.008666) with: {'max_features': 'log2', 'n_estimators': 100}\n",
      "0.613265 (0.008654) with: {'max_features': 'log2', 'n_estimators': 1000}\n",
      "0.613925 (0.009942) with: {'max_features': 'log2', 'n_estimators': 5000}\n"
     ]
    }
   ],
   "source": [
    "n_estimators = [10, 100, 1000, 5000]\n",
    "max_features = ['sqrt', 'log2']\n",
    "grid = dict(n_estimators=n_estimators,max_features=max_features)\n",
    "\n",
    "rfc=RandomForestClassifier()\n",
    "\n",
    "rf_search_results = kfold_grid_search(X_train, y_train, grid, rfc)\n",
    "print_search_results(rf_search_results)"
   ]
  },
  {
   "cell_type": "markdown",
   "metadata": {},
   "source": [
    "## K-Nearest Neighbors"
   ]
  },
  {
   "cell_type": "code",
   "execution_count": 25,
   "metadata": {
    "scrolled": true
   },
   "outputs": [
    {
     "name": "stdout",
     "output_type": "stream",
     "text": [
      "Grid Search started...\n",
      "Best: 0.564423 using {'metric': 'manhattan', 'n_neighbors': 9, 'weights': 'uniform'}\n",
      "0.548791 (0.009565) with: {'metric': 'euclidean', 'n_neighbors': 1, 'weights': 'uniform'}\n",
      "0.548791 (0.009565) with: {'metric': 'euclidean', 'n_neighbors': 1, 'weights': 'distance'}\n",
      "0.560359 (0.005047) with: {'metric': 'euclidean', 'n_neighbors': 3, 'weights': 'uniform'}\n",
      "0.550043 (0.006886) with: {'metric': 'euclidean', 'n_neighbors': 3, 'weights': 'distance'}\n",
      "0.553291 (0.011118) with: {'metric': 'euclidean', 'n_neighbors': 5, 'weights': 'uniform'}\n",
      "0.549142 (0.009914) with: {'metric': 'euclidean', 'n_neighbors': 5, 'weights': 'distance'}\n",
      "0.553627 (0.008545) with: {'metric': 'euclidean', 'n_neighbors': 7, 'weights': 'uniform'}\n",
      "0.550103 (0.009029) with: {'metric': 'euclidean', 'n_neighbors': 7, 'weights': 'distance'}\n",
      "0.560427 (0.004968) with: {'metric': 'euclidean', 'n_neighbors': 9, 'weights': 'uniform'}\n",
      "0.551810 (0.006498) with: {'metric': 'euclidean', 'n_neighbors': 9, 'weights': 'distance'}\n",
      "0.557387 (0.003980) with: {'metric': 'euclidean', 'n_neighbors': 11, 'weights': 'uniform'}\n",
      "0.551938 (0.005825) with: {'metric': 'euclidean', 'n_neighbors': 11, 'weights': 'distance'}\n",
      "0.555559 (0.006847) with: {'metric': 'euclidean', 'n_neighbors': 13, 'weights': 'uniform'}\n",
      "0.552359 (0.005531) with: {'metric': 'euclidean', 'n_neighbors': 13, 'weights': 'distance'}\n",
      "0.554200 (0.006588) with: {'metric': 'euclidean', 'n_neighbors': 15, 'weights': 'uniform'}\n",
      "0.551917 (0.003504) with: {'metric': 'euclidean', 'n_neighbors': 15, 'weights': 'distance'}\n",
      "0.552527 (0.009846) with: {'metric': 'euclidean', 'n_neighbors': 17, 'weights': 'uniform'}\n",
      "0.551689 (0.004927) with: {'metric': 'euclidean', 'n_neighbors': 17, 'weights': 'distance'}\n",
      "0.544937 (0.009761) with: {'metric': 'euclidean', 'n_neighbors': 19, 'weights': 'uniform'}\n",
      "0.551487 (0.004534) with: {'metric': 'euclidean', 'n_neighbors': 19, 'weights': 'distance'}\n",
      "0.547641 (0.009352) with: {'metric': 'manhattan', 'n_neighbors': 1, 'weights': 'uniform'}\n",
      "0.547641 (0.009352) with: {'metric': 'manhattan', 'n_neighbors': 1, 'weights': 'distance'}\n",
      "0.562324 (0.005900) with: {'metric': 'manhattan', 'n_neighbors': 3, 'weights': 'uniform'}\n",
      "0.551947 (0.006704) with: {'metric': 'manhattan', 'n_neighbors': 3, 'weights': 'distance'}\n",
      "0.561515 (0.006093) with: {'metric': 'manhattan', 'n_neighbors': 5, 'weights': 'uniform'}\n",
      "0.554126 (0.005086) with: {'metric': 'manhattan', 'n_neighbors': 5, 'weights': 'distance'}\n",
      "0.560945 (0.005496) with: {'metric': 'manhattan', 'n_neighbors': 7, 'weights': 'uniform'}\n",
      "0.554855 (0.006027) with: {'metric': 'manhattan', 'n_neighbors': 7, 'weights': 'distance'}\n",
      "0.564423 (0.004401) with: {'metric': 'manhattan', 'n_neighbors': 9, 'weights': 'uniform'}\n",
      "0.554052 (0.005134) with: {'metric': 'manhattan', 'n_neighbors': 9, 'weights': 'distance'}\n",
      "0.561317 (0.006285) with: {'metric': 'manhattan', 'n_neighbors': 11, 'weights': 'uniform'}\n",
      "0.553373 (0.006479) with: {'metric': 'manhattan', 'n_neighbors': 11, 'weights': 'distance'}\n",
      "0.558991 (0.006806) with: {'metric': 'manhattan', 'n_neighbors': 13, 'weights': 'uniform'}\n",
      "0.553626 (0.006563) with: {'metric': 'manhattan', 'n_neighbors': 13, 'weights': 'distance'}\n",
      "0.558202 (0.005996) with: {'metric': 'manhattan', 'n_neighbors': 15, 'weights': 'uniform'}\n",
      "0.553696 (0.004525) with: {'metric': 'manhattan', 'n_neighbors': 15, 'weights': 'distance'}\n",
      "0.555546 (0.011224) with: {'metric': 'manhattan', 'n_neighbors': 17, 'weights': 'uniform'}\n",
      "0.553666 (0.004405) with: {'metric': 'manhattan', 'n_neighbors': 17, 'weights': 'distance'}\n",
      "0.549994 (0.009181) with: {'metric': 'manhattan', 'n_neighbors': 19, 'weights': 'uniform'}\n",
      "0.553208 (0.004188) with: {'metric': 'manhattan', 'n_neighbors': 19, 'weights': 'distance'}\n",
      "0.548791 (0.009565) with: {'metric': 'minkowski', 'n_neighbors': 1, 'weights': 'uniform'}\n",
      "0.548791 (0.009565) with: {'metric': 'minkowski', 'n_neighbors': 1, 'weights': 'distance'}\n",
      "0.560359 (0.005047) with: {'metric': 'minkowski', 'n_neighbors': 3, 'weights': 'uniform'}\n",
      "0.550043 (0.006886) with: {'metric': 'minkowski', 'n_neighbors': 3, 'weights': 'distance'}\n",
      "0.553291 (0.011118) with: {'metric': 'minkowski', 'n_neighbors': 5, 'weights': 'uniform'}\n",
      "0.549142 (0.009914) with: {'metric': 'minkowski', 'n_neighbors': 5, 'weights': 'distance'}\n",
      "0.553627 (0.008545) with: {'metric': 'minkowski', 'n_neighbors': 7, 'weights': 'uniform'}\n",
      "0.550103 (0.009029) with: {'metric': 'minkowski', 'n_neighbors': 7, 'weights': 'distance'}\n",
      "0.560427 (0.004968) with: {'metric': 'minkowski', 'n_neighbors': 9, 'weights': 'uniform'}\n",
      "0.551810 (0.006498) with: {'metric': 'minkowski', 'n_neighbors': 9, 'weights': 'distance'}\n",
      "0.557387 (0.003980) with: {'metric': 'minkowski', 'n_neighbors': 11, 'weights': 'uniform'}\n",
      "0.551938 (0.005825) with: {'metric': 'minkowski', 'n_neighbors': 11, 'weights': 'distance'}\n",
      "0.555559 (0.006847) with: {'metric': 'minkowski', 'n_neighbors': 13, 'weights': 'uniform'}\n",
      "0.552359 (0.005531) with: {'metric': 'minkowski', 'n_neighbors': 13, 'weights': 'distance'}\n",
      "0.554200 (0.006588) with: {'metric': 'minkowski', 'n_neighbors': 15, 'weights': 'uniform'}\n",
      "0.551917 (0.003504) with: {'metric': 'minkowski', 'n_neighbors': 15, 'weights': 'distance'}\n",
      "0.552527 (0.009846) with: {'metric': 'minkowski', 'n_neighbors': 17, 'weights': 'uniform'}\n",
      "0.551689 (0.004927) with: {'metric': 'minkowski', 'n_neighbors': 17, 'weights': 'distance'}\n",
      "0.544937 (0.009761) with: {'metric': 'minkowski', 'n_neighbors': 19, 'weights': 'uniform'}\n",
      "0.551487 (0.004534) with: {'metric': 'minkowski', 'n_neighbors': 19, 'weights': 'distance'}\n"
     ]
    }
   ],
   "source": [
    "n_neighbors = range(1, 21, 2)\n",
    "weights = ['uniform', 'distance']\n",
    "metric = ['euclidean', 'manhattan', 'minkowski']\n",
    "grid = dict(n_neighbors=n_neighbors,weights=weights,metric=metric)\n",
    "\n",
    "knn = KNeighborsClassifier()\n",
    "knn_search_results = kfold_grid_search(X_train, y_train, grid, knn)\n",
    "print_search_results(knn_search_results)"
   ]
  },
  {
   "cell_type": "markdown",
   "metadata": {},
   "source": [
    "# Results so far\n",
    "## Accuracy\n",
    "### Logistic Regression\n",
    "`Best: 0.696873 using {'C': 1000, 'penalty': 'l1', 'solver': 'liblinear'}`\n",
    "\n",
    "### Support Vector Machine\n",
    "\n",
    "### Random Forest\n",
    "`Best: 0.728772 using {'max_features': 'log2', 'n_estimators': 5000}`\n",
    "\n",
    "### K-Nearest Neighbors\n",
    "`Best: 0.687071 using {'metric': 'manhattan', 'n_neighbors': 17, 'weights': 'uniform'}`\n",
    "\n",
    "## f1_macro\n",
    "### Logistic Regression\n",
    "`Best: 0.519135 using {'C': 1000, 'penalty': 'l1', 'solver': 'liblinear'}`\n",
    "\n",
    "### Support Vector Machine\n",
    "\n",
    "### Random Forest\n",
    "`Best: 0.613925 using {'max_features': 'log2', 'n_estimators': 5000}`\n",
    "\n",
    "### K-Nearest Neighbors\n",
    "`Best: 0.564423 using {'metric': 'manhattan', 'n_neighbors': 9, 'weights': 'uniform'}`\n",
    "\n"
   ]
  },
  {
   "cell_type": "code",
   "execution_count": null,
   "metadata": {},
   "outputs": [],
   "source": []
  }
 ],
 "metadata": {
  "kernelspec": {
   "display_name": "Python 3",
   "language": "python",
   "name": "python3"
  },
  "language_info": {
   "codemirror_mode": {
    "name": "ipython",
    "version": 3
   },
   "file_extension": ".py",
   "mimetype": "text/x-python",
   "name": "python",
   "nbconvert_exporter": "python",
   "pygments_lexer": "ipython3",
   "version": "3.6.9"
  }
 },
 "nbformat": 4,
 "nbformat_minor": 2
}
