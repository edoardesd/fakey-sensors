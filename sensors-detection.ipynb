{
 "cells": [
  {
   "cell_type": "markdown",
   "metadata": {},
   "source": [
    "## ML4CommNet Project"
   ]
  },
  {
   "cell_type": "markdown",
   "metadata": {},
   "source": [
    "### Data import"
   ]
  },
  {
   "cell_type": "code",
   "execution_count": 1,
   "metadata": {},
   "outputs": [],
   "source": [
    "bulb_ip = [1,2,10,11,12,18,19,27,28,29]\n",
    "camera_ip = [3,13,20,30]\n",
    "fire_ip = [4,14,21,31]\n",
    "plug_ip = [5,6,7,15,16,22,23,24,32,33]\n",
    "smart_tv_ip = [8,25]\n",
    "thermo_ip = [9,17,26,34]\n",
    "\n",
    "def label_sensor(row):\n",
    "    if any('.{}.'.format(i) in row['SrcAddr'] for i in bulb_ip):\n",
    "        return 'Bulb'\n",
    "    if any('.{}.'.format(i) in row['SrcAddr'] for i in camera_ip):\n",
    "        return 'Camera'\n",
    "    if any('.{}.'.format(i) in row['SrcAddr'] for i in fire_ip):\n",
    "        return 'Fire'\n",
    "    if any('.{}.'.format(i) in row['SrcAddr'] for i in plug_ip):\n",
    "        return 'Plug'\n",
    "    if any('.{}.'.format(i) in row['SrcAddr'] for i in smart_tv_ip):\n",
    "        return 'SmartTv'\n",
    "    if any('.{}.'.format(i) in row['SrcAddr'] for i in thermo_ip):\n",
    "        return 'Thermo'\n",
    "    \n",
    "    return 'Other'"
   ]
  },
  {
   "cell_type": "code",
   "execution_count": 2,
   "metadata": {
    "scrolled": true
   },
   "outputs": [
    {
     "name": "stdout",
     "output_type": "stream",
     "text": [
      "Feature number => 33\n"
     ]
    },
    {
     "data": {
      "text/html": [
       "<div>\n",
       "<style scoped>\n",
       "    .dataframe tbody tr th:only-of-type {\n",
       "        vertical-align: middle;\n",
       "    }\n",
       "\n",
       "    .dataframe tbody tr th {\n",
       "        vertical-align: top;\n",
       "    }\n",
       "\n",
       "    .dataframe thead th {\n",
       "        text-align: right;\n",
       "    }\n",
       "</style>\n",
       "<table border=\"1\" class=\"dataframe\">\n",
       "  <thead>\n",
       "    <tr style=\"text-align: right;\">\n",
       "      <th></th>\n",
       "      <th>StartTime</th>\n",
       "      <th>Proto</th>\n",
       "      <th>SrcAddr</th>\n",
       "      <th>DstAddr</th>\n",
       "      <th>TotPkts</th>\n",
       "      <th>SrcPkts</th>\n",
       "      <th>DstPkts</th>\n",
       "      <th>TotBytes</th>\n",
       "      <th>SrcBytes</th>\n",
       "      <th>DstBytes</th>\n",
       "      <th>...</th>\n",
       "      <th>SrcRate</th>\n",
       "      <th>DstRate</th>\n",
       "      <th>Dir</th>\n",
       "      <th>State</th>\n",
       "      <th>SrcWin</th>\n",
       "      <th>DstWin</th>\n",
       "      <th>TcpRtt</th>\n",
       "      <th>SynAck</th>\n",
       "      <th>AckDat</th>\n",
       "      <th>Sensor</th>\n",
       "    </tr>\n",
       "  </thead>\n",
       "  <tbody>\n",
       "    <tr>\n",
       "      <th>0</th>\n",
       "      <td>15:29:14.361031</td>\n",
       "      <td>tcp</td>\n",
       "      <td>10.0.0.1.37523</td>\n",
       "      <td>10.0.0.251.1883</td>\n",
       "      <td>32</td>\n",
       "      <td>18</td>\n",
       "      <td>14</td>\n",
       "      <td>4332</td>\n",
       "      <td>2528</td>\n",
       "      <td>1804</td>\n",
       "      <td>...</td>\n",
       "      <td>10.146207</td>\n",
       "      <td>7.758864</td>\n",
       "      <td>-&gt;</td>\n",
       "      <td>CON</td>\n",
       "      <td>42496.0</td>\n",
       "      <td>43008.0</td>\n",
       "      <td>0.745406</td>\n",
       "      <td>0.000024</td>\n",
       "      <td>0.745382</td>\n",
       "      <td>Bulb</td>\n",
       "    </tr>\n",
       "    <tr>\n",
       "      <th>1</th>\n",
       "      <td>15:29:14.422460</td>\n",
       "      <td>tcp</td>\n",
       "      <td>10.0.0.1.57455</td>\n",
       "      <td>10.0.0.251.1883</td>\n",
       "      <td>24</td>\n",
       "      <td>14</td>\n",
       "      <td>10</td>\n",
       "      <td>2526</td>\n",
       "      <td>1826</td>\n",
       "      <td>700</td>\n",
       "      <td>...</td>\n",
       "      <td>9.515987</td>\n",
       "      <td>6.587991</td>\n",
       "      <td>-&gt;</td>\n",
       "      <td>CON</td>\n",
       "      <td>42496.0</td>\n",
       "      <td>43520.0</td>\n",
       "      <td>0.116448</td>\n",
       "      <td>0.000018</td>\n",
       "      <td>0.116430</td>\n",
       "      <td>Bulb</td>\n",
       "    </tr>\n",
       "    <tr>\n",
       "      <th>4</th>\n",
       "      <td>15:29:14.643824</td>\n",
       "      <td>tcp</td>\n",
       "      <td>10.0.0.10.57571</td>\n",
       "      <td>10.0.0.251.1883</td>\n",
       "      <td>34</td>\n",
       "      <td>18</td>\n",
       "      <td>16</td>\n",
       "      <td>4506</td>\n",
       "      <td>2546</td>\n",
       "      <td>1960</td>\n",
       "      <td>...</td>\n",
       "      <td>16.874706</td>\n",
       "      <td>14.889446</td>\n",
       "      <td>-&gt;</td>\n",
       "      <td>CON</td>\n",
       "      <td>42496.0</td>\n",
       "      <td>43008.0</td>\n",
       "      <td>0.023110</td>\n",
       "      <td>0.000022</td>\n",
       "      <td>0.023088</td>\n",
       "      <td>Bulb</td>\n",
       "    </tr>\n",
       "    <tr>\n",
       "      <th>5</th>\n",
       "      <td>15:29:14.730703</td>\n",
       "      <td>tcp</td>\n",
       "      <td>10.0.0.2.48659</td>\n",
       "      <td>10.0.0.251.1883</td>\n",
       "      <td>34</td>\n",
       "      <td>20</td>\n",
       "      <td>14</td>\n",
       "      <td>4492</td>\n",
       "      <td>2674</td>\n",
       "      <td>1818</td>\n",
       "      <td>...</td>\n",
       "      <td>14.290184</td>\n",
       "      <td>9.777494</td>\n",
       "      <td>-&gt;</td>\n",
       "      <td>CON</td>\n",
       "      <td>42496.0</td>\n",
       "      <td>43008.0</td>\n",
       "      <td>0.474907</td>\n",
       "      <td>0.000023</td>\n",
       "      <td>0.474884</td>\n",
       "      <td>Bulb</td>\n",
       "    </tr>\n",
       "    <tr>\n",
       "      <th>6</th>\n",
       "      <td>15:29:14.820463</td>\n",
       "      <td>tcp</td>\n",
       "      <td>10.0.0.10.53037</td>\n",
       "      <td>10.0.0.251.1883</td>\n",
       "      <td>24</td>\n",
       "      <td>14</td>\n",
       "      <td>10</td>\n",
       "      <td>2554</td>\n",
       "      <td>1854</td>\n",
       "      <td>700</td>\n",
       "      <td>...</td>\n",
       "      <td>14.025624</td>\n",
       "      <td>9.710048</td>\n",
       "      <td>-&gt;</td>\n",
       "      <td>CON</td>\n",
       "      <td>42496.0</td>\n",
       "      <td>43520.0</td>\n",
       "      <td>0.118611</td>\n",
       "      <td>0.000022</td>\n",
       "      <td>0.118589</td>\n",
       "      <td>Bulb</td>\n",
       "    </tr>\n",
       "  </tbody>\n",
       "</table>\n",
       "<p>5 rows × 33 columns</p>\n",
       "</div>"
      ],
      "text/plain": [
       "         StartTime Proto          SrcAddr          DstAddr  TotPkts  SrcPkts  \\\n",
       "0  15:29:14.361031   tcp   10.0.0.1.37523  10.0.0.251.1883       32       18   \n",
       "1  15:29:14.422460   tcp   10.0.0.1.57455  10.0.0.251.1883       24       14   \n",
       "4  15:29:14.643824   tcp  10.0.0.10.57571  10.0.0.251.1883       34       18   \n",
       "5  15:29:14.730703   tcp   10.0.0.2.48659  10.0.0.251.1883       34       20   \n",
       "6  15:29:14.820463   tcp  10.0.0.10.53037  10.0.0.251.1883       24       14   \n",
       "\n",
       "   DstPkts  TotBytes  SrcBytes  DstBytes  ...    SrcRate    DstRate  Dir  \\\n",
       "0       14      4332      2528      1804  ...  10.146207   7.758864   ->   \n",
       "1       10      2526      1826       700  ...   9.515987   6.587991   ->   \n",
       "4       16      4506      2546      1960  ...  16.874706  14.889446   ->   \n",
       "5       14      4492      2674      1818  ...  14.290184   9.777494   ->   \n",
       "6       10      2554      1854       700  ...  14.025624   9.710048   ->   \n",
       "\n",
       "   State   SrcWin   DstWin    TcpRtt    SynAck    AckDat  Sensor  \n",
       "0    CON  42496.0  43008.0  0.745406  0.000024  0.745382    Bulb  \n",
       "1    CON  42496.0  43520.0  0.116448  0.000018  0.116430    Bulb  \n",
       "4    CON  42496.0  43008.0  0.023110  0.000022  0.023088    Bulb  \n",
       "5    CON  42496.0  43008.0  0.474907  0.000023  0.474884    Bulb  \n",
       "6    CON  42496.0  43520.0  0.118611  0.000022  0.118589    Bulb  \n",
       "\n",
       "[5 rows x 33 columns]"
      ]
     },
     "execution_count": 2,
     "metadata": {},
     "output_type": "execute_result"
    }
   ],
   "source": [
    "import pandas as pd\n",
    "import seaborn as sns\n",
    "import matplotlib.pyplot as plt\n",
    "\n",
    "# read dataframe from...\n",
    "df_NaN = pd.read_csv('experiments/argus.csv', skiprows=1, delim_whitespace=True, names=['StartTime', 'Proto', 'SrcAddr', 'DstAddr', 'TotPkts', 'SrcPkts', 'DstPkts', 'TotBytes', 'SrcBytes', 'DstBytes', 'Dur', 'Load', 'SrcLoad', 'DstLoad', 'Loss', 'SrcLoss', 'DstLoss', 'pLoss', 'Retrans', 'SrcRetra', 'DstRetra', 'pRetran', 'Rate', 'SrcRate', 'DstRate', 'Dir', 'State', 'SrcWin', 'DstWin', 'TcpRtt', 'SynAck', 'AckDat'])\n",
    "\n",
    "# clean * values if not done from outside (DO IT from the outisde!)\n",
    "# df = df.replace('\\*', '', regex=True)\n",
    "\n",
    "# assign labels to the sensors\n",
    "df_NaN['Sensor'] = df_NaN.apply(lambda row: label_sensor(row), axis=1)\n",
    "\n",
    "#dropNA for majority sensors\n",
    "df_majority = df_NaN.loc[df_NaN['Sensor'].isin(['Camera', 'Plug', 'SmartTv', 'Fire'])].dropna()\n",
    "df_minority = df_NaN.loc[df_NaN['Sensor'].isin(['Thermo', 'Bulb'])].fillna(0)\n",
    "df = pd.concat([df_minority, df_majority])\n",
    "\n",
    "print(\"Feature number => {}\".format(df.shape[1]))\n",
    "df.head()\n",
    "\n",
    "#dummy features for something?\n",
    "#Normalizare"
   ]
  },
  {
   "cell_type": "markdown",
   "metadata": {},
   "source": [
    "# Dataset Features"
   ]
  },
  {
   "cell_type": "code",
   "execution_count": 3,
   "metadata": {},
   "outputs": [
    {
     "name": "stdout",
     "output_type": "stream",
     "text": [
      "Dataset columns: \n",
      "['StartTime', 'Proto', 'SrcAddr', 'DstAddr', 'TotPkts', 'SrcPkts', 'DstPkts', 'TotBytes', 'SrcBytes', 'DstBytes', 'Dur', 'Load', 'SrcLoad', 'DstLoad', 'Loss', 'SrcLoss', 'DstLoss', 'pLoss', 'Retrans', 'SrcRetra', 'DstRetra', 'pRetran', 'Rate', 'SrcRate', 'DstRate', 'Dir', 'State', 'SrcWin', 'DstWin', 'TcpRtt', 'SynAck', 'AckDat', 'Sensor']\n"
     ]
    }
   ],
   "source": [
    "print(\"Dataset columns: \\n{}\".format(df.columns.to_list()))"
   ]
  },
  {
   "cell_type": "markdown",
   "metadata": {},
   "source": [
    "#### Labels distribution"
   ]
  },
  {
   "cell_type": "code",
   "execution_count": 4,
   "metadata": {},
   "outputs": [
    {
     "data": {
      "image/png": "[encoded data removed]",
      "text/plain": [
       "<Figure size 432x288 with 1 Axes>"
      ]
     },
     "metadata": {},
     "output_type": "display_data"
    }
   ],
   "source": [
    "df['Sensor'].value_counts().plot(kind='pie')\n",
    "plt.show()\n"
   ]
  },
  {
   "cell_type": "code",
   "execution_count": 5,
   "metadata": {},
   "outputs": [
    {
     "data": {
      "text/html": [
       "<div>\n",
       "<style scoped>\n",
       "    .dataframe tbody tr th:only-of-type {\n",
       "        vertical-align: middle;\n",
       "    }\n",
       "\n",
       "    .dataframe tbody tr th {\n",
       "        vertical-align: top;\n",
       "    }\n",
       "\n",
       "    .dataframe thead tr th {\n",
       "        text-align: left;\n",
       "    }\n",
       "\n",
       "    .dataframe thead tr:last-of-type th {\n",
       "        text-align: right;\n",
       "    }\n",
       "</style>\n",
       "<table border=\"1\" class=\"dataframe\">\n",
       "  <thead>\n",
       "    <tr>\n",
       "      <th></th>\n",
       "      <th colspan=\"6\" halign=\"left\">mean</th>\n",
       "      <th colspan=\"6\" halign=\"left\">std</th>\n",
       "    </tr>\n",
       "    <tr>\n",
       "      <th></th>\n",
       "      <th>TotPkts</th>\n",
       "      <th>TotBytes</th>\n",
       "      <th>Dur</th>\n",
       "      <th>Load</th>\n",
       "      <th>Loss</th>\n",
       "      <th>Rate</th>\n",
       "      <th>TotPkts</th>\n",
       "      <th>TotBytes</th>\n",
       "      <th>Dur</th>\n",
       "      <th>Load</th>\n",
       "      <th>Loss</th>\n",
       "      <th>Rate</th>\n",
       "    </tr>\n",
       "    <tr>\n",
       "      <th>Sensor</th>\n",
       "      <th></th>\n",
       "      <th></th>\n",
       "      <th></th>\n",
       "      <th></th>\n",
       "      <th></th>\n",
       "      <th></th>\n",
       "      <th></th>\n",
       "      <th></th>\n",
       "      <th></th>\n",
       "      <th></th>\n",
       "      <th></th>\n",
       "      <th></th>\n",
       "    </tr>\n",
       "  </thead>\n",
       "  <tbody>\n",
       "    <tr>\n",
       "      <th>Bulb</th>\n",
       "      <td>6.085784</td>\n",
       "      <td>550.250000</td>\n",
       "      <td>0.569738</td>\n",
       "      <td>1.149137e+06</td>\n",
       "      <td>1.411765</td>\n",
       "      <td>28100.647151</td>\n",
       "      <td>5.758446</td>\n",
       "      <td>713.183958</td>\n",
       "      <td>1.208773</td>\n",
       "      <td>2.158059e+06</td>\n",
       "      <td>2.478816</td>\n",
       "      <td>127151.997356</td>\n",
       "    </tr>\n",
       "    <tr>\n",
       "      <th>Camera</th>\n",
       "      <td>599.530995</td>\n",
       "      <td>797031.570399</td>\n",
       "      <td>4.611342</td>\n",
       "      <td>1.314522e+06</td>\n",
       "      <td>152.354958</td>\n",
       "      <td>395.496371</td>\n",
       "      <td>431.521105</td>\n",
       "      <td>516593.014043</td>\n",
       "      <td>0.666227</td>\n",
       "      <td>8.237476e+05</td>\n",
       "      <td>134.532068</td>\n",
       "      <td>13362.330751</td>\n",
       "    </tr>\n",
       "    <tr>\n",
       "      <th>Fire</th>\n",
       "      <td>5.149038</td>\n",
       "      <td>661.947115</td>\n",
       "      <td>0.217794</td>\n",
       "      <td>2.282927e+06</td>\n",
       "      <td>1.228365</td>\n",
       "      <td>11105.554969</td>\n",
       "      <td>2.932354</td>\n",
       "      <td>364.706363</td>\n",
       "      <td>0.804836</td>\n",
       "      <td>2.913492e+06</td>\n",
       "      <td>1.037568</td>\n",
       "      <td>23924.524768</td>\n",
       "    </tr>\n",
       "    <tr>\n",
       "      <th>Plug</th>\n",
       "      <td>5.154103</td>\n",
       "      <td>667.745897</td>\n",
       "      <td>0.305870</td>\n",
       "      <td>2.384826e+06</td>\n",
       "      <td>1.081763</td>\n",
       "      <td>38880.505092</td>\n",
       "      <td>3.146995</td>\n",
       "      <td>398.452004</td>\n",
       "      <td>0.943939</td>\n",
       "      <td>2.868407e+06</td>\n",
       "      <td>1.061359</td>\n",
       "      <td>169951.737762</td>\n",
       "    </tr>\n",
       "    <tr>\n",
       "      <th>SmartTv</th>\n",
       "      <td>78.685629</td>\n",
       "      <td>109759.097305</td>\n",
       "      <td>3.613835</td>\n",
       "      <td>6.554276e+05</td>\n",
       "      <td>20.526946</td>\n",
       "      <td>1667.774855</td>\n",
       "      <td>86.817472</td>\n",
       "      <td>119535.189131</td>\n",
       "      <td>2.011742</td>\n",
       "      <td>9.844782e+05</td>\n",
       "      <td>26.052512</td>\n",
       "      <td>22609.689533</td>\n",
       "    </tr>\n",
       "    <tr>\n",
       "      <th>Thermo</th>\n",
       "      <td>5.278652</td>\n",
       "      <td>635.793258</td>\n",
       "      <td>0.315112</td>\n",
       "      <td>7.591378e+05</td>\n",
       "      <td>0.689888</td>\n",
       "      <td>14061.403626</td>\n",
       "      <td>3.637098</td>\n",
       "      <td>362.795270</td>\n",
       "      <td>0.886773</td>\n",
       "      <td>1.676393e+06</td>\n",
       "      <td>1.637954</td>\n",
       "      <td>79241.390937</td>\n",
       "    </tr>\n",
       "  </tbody>\n",
       "</table>\n",
       "</div>"
      ],
      "text/plain": [
       "               mean                                                     \\\n",
       "            TotPkts       TotBytes       Dur          Load        Loss   \n",
       "Sensor                                                                   \n",
       "Bulb       6.085784     550.250000  0.569738  1.149137e+06    1.411765   \n",
       "Camera   599.530995  797031.570399  4.611342  1.314522e+06  152.354958   \n",
       "Fire       5.149038     661.947115  0.217794  2.282927e+06    1.228365   \n",
       "Plug       5.154103     667.745897  0.305870  2.384826e+06    1.081763   \n",
       "SmartTv   78.685629  109759.097305  3.613835  6.554276e+05   20.526946   \n",
       "Thermo     5.278652     635.793258  0.315112  7.591378e+05    0.689888   \n",
       "\n",
       "                              std                                         \\\n",
       "                 Rate     TotPkts       TotBytes       Dur          Load   \n",
       "Sensor                                                                     \n",
       "Bulb     28100.647151    5.758446     713.183958  1.208773  2.158059e+06   \n",
       "Camera     395.496371  431.521105  516593.014043  0.666227  8.237476e+05   \n",
       "Fire     11105.554969    2.932354     364.706363  0.804836  2.913492e+06   \n",
       "Plug     38880.505092    3.146995     398.452004  0.943939  2.868407e+06   \n",
       "SmartTv   1667.774855   86.817472  119535.189131  2.011742  9.844782e+05   \n",
       "Thermo   14061.403626    3.637098     362.795270  0.886773  1.676393e+06   \n",
       "\n",
       "                                    \n",
       "               Loss           Rate  \n",
       "Sensor                              \n",
       "Bulb       2.478816  127151.997356  \n",
       "Camera   134.532068   13362.330751  \n",
       "Fire       1.037568   23924.524768  \n",
       "Plug       1.061359  169951.737762  \n",
       "SmartTv   26.052512   22609.689533  \n",
       "Thermo     1.637954   79241.390937  "
      ]
     },
     "execution_count": 5,
     "metadata": {},
     "output_type": "execute_result"
    }
   ],
   "source": [
    "df_describe = df[['TotPkts', 'TotBytes', 'Dur', 'Load', 'Loss', 'Rate', 'Sensor']].groupby('Sensor').describe()\n",
    "df_describe.columns = df_describe.columns.swaplevel(0, 1)\n",
    "df_describe[['mean', 'std']]"
   ]
  },
  {
   "cell_type": "code",
   "execution_count": 6,
   "metadata": {},
   "outputs": [
    {
     "data": {
      "image/png": "[encoded data removed]",
      "text/plain": [
       "<Figure size 432x432 with 3 Axes>"
      ]
     },
     "metadata": {
      "needs_background": "light"
     },
     "output_type": "display_data"
    }
   ],
   "source": [
    "sns.jointplot(data=df.loc[df[\"Sensor\"].isin(['Thermo', 'Bulb', 'Plug', 'Fire'])], x=\"TotBytes\", y=\"Rate\", hue=\"Sensor\", ylim=(0, 100000))\n",
    "plt.show()"
   ]
  },
  {
   "cell_type": "code",
   "execution_count": 7,
   "metadata": {},
   "outputs": [
    {
     "data": {
      "image/png": "[encoded data removed]",
      "text/plain": [
       "<Figure size 432x432 with 3 Axes>"
      ]
     },
     "metadata": {
      "needs_background": "light"
     },
     "output_type": "display_data"
    }
   ],
   "source": [
    "xval = \"SrcBytes\"\n",
    "yval = \"TotBytes\"\n",
    "\n",
    "\n",
    "p = sns.jointplot(data=df.loc[df[\"Sensor\"].isin(['Thermo', 'Bulb', 'Plug', 'Fire'])], \n",
    "             x=\"SrcBytes\", y=\"TotBytes\", hue=\"Sensor\")\n",
    "p.fig.suptitle(\"{} vs {}\".format(xval, yval))\n",
    "plt.show()"
   ]
  },
  {
   "cell_type": "code",
   "execution_count": 8,
   "metadata": {},
   "outputs": [
    {
     "data": {
      "image/png": "[encoded data removed]",
      "text/plain": [
       "<Figure size 432x432 with 3 Axes>"
      ]
     },
     "metadata": {
      "needs_background": "light"
     },
     "output_type": "display_data"
    }
   ],
   "source": [
    "sns.jointplot(data=df.loc[df[\"Sensor\"].isin(['SmartTv', 'Camera'])], x=\"TotBytes\", y=\"Rate\", hue=\"Sensor\", ylim=(0, 1000))\n",
    "plt.show()"
   ]
  },
  {
   "cell_type": "markdown",
   "metadata": {},
   "source": [
    "# Data cleaning"
   ]
  },
  {
   "cell_type": "markdown",
   "metadata": {},
   "source": [
    "#### Deleting columns with only one value"
   ]
  },
  {
   "cell_type": "code",
   "execution_count": 9,
   "metadata": {},
   "outputs": [
    {
     "name": "stdout",
     "output_type": "stream",
     "text": [
      "Columns with only one element: ['Proto', 'DstAddr', 'Retrans', 'SrcRetra', 'DstRetra', 'pRetran']\n",
      "Removed!\n",
      "Feature number => 27\n"
     ]
    }
   ],
   "source": [
    "print(\"Columns with only one element: {}\".format(df.loc[:,df.apply(pd.Series.nunique) == 1].columns.to_list()))\n",
    "\n",
    "df_clean_cols = df.loc[:,df.apply(pd.Series.nunique) != 1]\n",
    "\n",
    "print(\"Removed!\")\n",
    "print(\"Feature number => {}\".format(df_clean_cols.shape[1]))"
   ]
  },
  {
   "cell_type": "code",
   "execution_count": 10,
   "metadata": {},
   "outputs": [
    {
     "name": "stdout",
     "output_type": "stream",
     "text": [
      "Number of null values in each column:\n",
      "StartTime    0\n",
      "SrcAddr      0\n",
      "TotPkts      0\n",
      "SrcPkts      0\n",
      "DstPkts      0\n",
      "TotBytes     0\n",
      "SrcBytes     0\n",
      "DstBytes     0\n",
      "Dur          0\n",
      "Load         0\n",
      "SrcLoad      0\n",
      "DstLoad      0\n",
      "Loss         0\n",
      "SrcLoss      0\n",
      "DstLoss      0\n",
      "pLoss        0\n",
      "Rate         0\n",
      "SrcRate      0\n",
      "DstRate      0\n",
      "Dir          0\n",
      "State        0\n",
      "SrcWin       0\n",
      "DstWin       0\n",
      "TcpRtt       0\n",
      "SynAck       0\n",
      "AckDat       0\n",
      "Sensor       0\n",
      "dtype: int64\n"
     ]
    }
   ],
   "source": [
    "null_counts = df_clean_cols.isnull().sum()\n",
    "print(\"Number of null values in each column:\\n{}\".format(null_counts))"
   ]
  },
  {
   "cell_type": "markdown",
   "metadata": {},
   "source": [
    "##### Checking type of feature "
   ]
  },
  {
   "cell_type": "code",
   "execution_count": 11,
   "metadata": {},
   "outputs": [
    {
     "name": "stdout",
     "output_type": "stream",
     "text": [
      "Data types and their frequency\n",
      "float64    13\n",
      "int64       9\n",
      "object      5\n",
      "dtype: int64\n",
      "\n",
      "\n",
      "\n",
      "StartTime    15:29:14.361031\n",
      "SrcAddr       10.0.0.1.37523\n",
      "Dir                       ->\n",
      "State                    CON\n",
      "Sensor                  Bulb\n",
      "Name: 0, dtype: object\n"
     ]
    }
   ],
   "source": [
    "print(\"Data types and their frequency\\n{}\".format(df_clean_cols.dtypes.value_counts()))\n",
    "print(\"\\n\\n\")\n",
    "object_columns_df = df_clean_cols.select_dtypes(include=['object'])\n",
    "print(object_columns_df.iloc[0])"
   ]
  },
  {
   "cell_type": "markdown",
   "metadata": {},
   "source": [
    "###### Drop useless features"
   ]
  },
  {
   "cell_type": "code",
   "execution_count": 12,
   "metadata": {},
   "outputs": [
    {
     "name": "stdout",
     "output_type": "stream",
     "text": [
      "Feature number => 25\n"
     ]
    },
    {
     "name": "stderr",
     "output_type": "stream",
     "text": [
      "/home/antedo/.local/lib/python3.6/site-packages/pandas/core/frame.py:4174: SettingWithCopyWarning: \n",
      "A value is trying to be set on a copy of a slice from a DataFrame\n",
      "\n",
      "See the caveats in the documentation: https://pandas.pydata.org/pandas-docs/stable/user_guide/indexing.html#returning-a-view-versus-a-copy\n",
      "  errors=errors,\n"
     ]
    }
   ],
   "source": [
    "useless_cols = ['StartTime', 'SrcAddr']\n",
    "try:\n",
    "    df_clean_cols.drop(useless_cols, axis=1, inplace=True)\n",
    "except KeyError as e:\n",
    "    print(\"Already removed!\")\n",
    "print(\"Feature number => {}\".format(df_clean_cols.shape[1]))"
   ]
  },
  {
   "cell_type": "markdown",
   "metadata": {},
   "source": [
    "###### Check columns with few unique values"
   ]
  },
  {
   "cell_type": "code",
   "execution_count": 13,
   "metadata": {},
   "outputs": [
    {
     "name": "stdout",
     "output_type": "stream",
     "text": [
      "TotPkts, 695, 5.5%\n",
      "SrcPkts, 375, 3.0%\n",
      "DstPkts, 412, 3.3%\n",
      "TotBytes, 4685, 37.3%\n",
      "SrcBytes, 3223, 25.7%\n",
      "DstBytes, 1837, 14.6%\n",
      "Dur, 8046, 64.1%\n",
      "Load, 10938, 87.1%\n",
      "SrcLoad, 10044, 80.0%\n",
      "DstLoad, 9895, 78.8%\n",
      "Loss, 548, 4.4%\n",
      "SrcLoss, 548, 4.4%\n",
      "DstLoss, 11, 0.1%\n",
      "pLoss, 2648, 21.1%\n",
      "Rate, 9748, 77.6%\n",
      "SrcRate, 9568, 76.2%\n",
      "DstRate, 9678, 77.1%\n",
      "Dir, 4, 0.0%\n",
      "State, 4, 0.0%\n",
      "SrcWin, 4, 0.0%\n",
      "DstWin, 1329, 10.6%\n",
      "TcpRtt, 88, 0.7%\n",
      "SynAck, 21, 0.2%\n",
      "AckDat, 79, 0.6%\n",
      "Sensor, 6, 0.0%\n"
     ]
    }
   ],
   "source": [
    "from numpy import unique\n",
    "\n",
    "for i in df_clean_cols.columns:\n",
    "    num = len(df_clean_cols[i].unique())\n",
    "    percentage = float(num) / df_clean_cols.shape[0] * 100\n",
    "    print('%s, %d, %.1f%%' % (i, num, percentage))"
   ]
  },
  {
   "cell_type": "code",
   "execution_count": 14,
   "metadata": {
    "scrolled": true
   },
   "outputs": [
    {
     "data": {
      "text/html": [
       "<div>\n",
       "<style scoped>\n",
       "    .dataframe tbody tr th:only-of-type {\n",
       "        vertical-align: middle;\n",
       "    }\n",
       "\n",
       "    .dataframe tbody tr th {\n",
       "        vertical-align: top;\n",
       "    }\n",
       "\n",
       "    .dataframe thead th {\n",
       "        text-align: right;\n",
       "    }\n",
       "</style>\n",
       "<table border=\"1\" class=\"dataframe\">\n",
       "  <thead>\n",
       "    <tr style=\"text-align: right;\">\n",
       "      <th></th>\n",
       "      <th>TotPkts</th>\n",
       "      <th>SrcPkts</th>\n",
       "      <th>DstPkts</th>\n",
       "      <th>TotBytes</th>\n",
       "      <th>SrcBytes</th>\n",
       "      <th>DstBytes</th>\n",
       "      <th>Dur</th>\n",
       "      <th>Load</th>\n",
       "      <th>SrcLoad</th>\n",
       "      <th>DstLoad</th>\n",
       "      <th>...</th>\n",
       "      <th>SrcRate</th>\n",
       "      <th>DstRate</th>\n",
       "      <th>Dir</th>\n",
       "      <th>State</th>\n",
       "      <th>SrcWin</th>\n",
       "      <th>DstWin</th>\n",
       "      <th>TcpRtt</th>\n",
       "      <th>SynAck</th>\n",
       "      <th>AckDat</th>\n",
       "      <th>Sensor</th>\n",
       "    </tr>\n",
       "  </thead>\n",
       "  <tbody>\n",
       "    <tr>\n",
       "      <th>0</th>\n",
       "      <td>32</td>\n",
       "      <td>18</td>\n",
       "      <td>14</td>\n",
       "      <td>4332</td>\n",
       "      <td>2528</td>\n",
       "      <td>1804</td>\n",
       "      <td>1.675503</td>\n",
       "      <td>19404.3</td>\n",
       "      <td>11401.90</td>\n",
       "      <td>8002.37</td>\n",
       "      <td>...</td>\n",
       "      <td>10.146207</td>\n",
       "      <td>7.758864</td>\n",
       "      <td>-&gt;</td>\n",
       "      <td>CON</td>\n",
       "      <td>42496.0</td>\n",
       "      <td>43008.0</td>\n",
       "      <td>0.745406</td>\n",
       "      <td>0.000024</td>\n",
       "      <td>0.745382</td>\n",
       "      <td>Bulb</td>\n",
       "    </tr>\n",
       "    <tr>\n",
       "      <th>1</th>\n",
       "      <td>24</td>\n",
       "      <td>14</td>\n",
       "      <td>10</td>\n",
       "      <td>2526</td>\n",
       "      <td>1826</td>\n",
       "      <td>700</td>\n",
       "      <td>1.366122</td>\n",
       "      <td>13621.0</td>\n",
       "      <td>9931.76</td>\n",
       "      <td>3689.27</td>\n",
       "      <td>...</td>\n",
       "      <td>9.515987</td>\n",
       "      <td>6.587991</td>\n",
       "      <td>-&gt;</td>\n",
       "      <td>CON</td>\n",
       "      <td>42496.0</td>\n",
       "      <td>43520.0</td>\n",
       "      <td>0.116448</td>\n",
       "      <td>0.000018</td>\n",
       "      <td>0.116430</td>\n",
       "      <td>Bulb</td>\n",
       "    </tr>\n",
       "    <tr>\n",
       "      <th>4</th>\n",
       "      <td>34</td>\n",
       "      <td>18</td>\n",
       "      <td>16</td>\n",
       "      <td>4506</td>\n",
       "      <td>2546</td>\n",
       "      <td>1960</td>\n",
       "      <td>1.007425</td>\n",
       "      <td>33693.8</td>\n",
       "      <td>19098.10</td>\n",
       "      <td>14595.60</td>\n",
       "      <td>...</td>\n",
       "      <td>16.874706</td>\n",
       "      <td>14.889446</td>\n",
       "      <td>-&gt;</td>\n",
       "      <td>CON</td>\n",
       "      <td>42496.0</td>\n",
       "      <td>43008.0</td>\n",
       "      <td>0.023110</td>\n",
       "      <td>0.000022</td>\n",
       "      <td>0.023088</td>\n",
       "      <td>Bulb</td>\n",
       "    </tr>\n",
       "    <tr>\n",
       "      <th>5</th>\n",
       "      <td>34</td>\n",
       "      <td>20</td>\n",
       "      <td>14</td>\n",
       "      <td>4492</td>\n",
       "      <td>2674</td>\n",
       "      <td>1818</td>\n",
       "      <td>1.329584</td>\n",
       "      <td>25451.5</td>\n",
       "      <td>15288.90</td>\n",
       "      <td>10162.50</td>\n",
       "      <td>...</td>\n",
       "      <td>14.290184</td>\n",
       "      <td>9.777494</td>\n",
       "      <td>-&gt;</td>\n",
       "      <td>CON</td>\n",
       "      <td>42496.0</td>\n",
       "      <td>43008.0</td>\n",
       "      <td>0.474907</td>\n",
       "      <td>0.000023</td>\n",
       "      <td>0.474884</td>\n",
       "      <td>Bulb</td>\n",
       "    </tr>\n",
       "    <tr>\n",
       "      <th>6</th>\n",
       "      <td>24</td>\n",
       "      <td>14</td>\n",
       "      <td>10</td>\n",
       "      <td>2554</td>\n",
       "      <td>1854</td>\n",
       "      <td>700</td>\n",
       "      <td>0.926875</td>\n",
       "      <td>20300.4</td>\n",
       "      <td>14862.80</td>\n",
       "      <td>5437.62</td>\n",
       "      <td>...</td>\n",
       "      <td>14.025624</td>\n",
       "      <td>9.710048</td>\n",
       "      <td>-&gt;</td>\n",
       "      <td>CON</td>\n",
       "      <td>42496.0</td>\n",
       "      <td>43520.0</td>\n",
       "      <td>0.118611</td>\n",
       "      <td>0.000022</td>\n",
       "      <td>0.118589</td>\n",
       "      <td>Bulb</td>\n",
       "    </tr>\n",
       "    <tr>\n",
       "      <th>...</th>\n",
       "      <td>...</td>\n",
       "      <td>...</td>\n",
       "      <td>...</td>\n",
       "      <td>...</td>\n",
       "      <td>...</td>\n",
       "      <td>...</td>\n",
       "      <td>...</td>\n",
       "      <td>...</td>\n",
       "      <td>...</td>\n",
       "      <td>...</td>\n",
       "      <td>...</td>\n",
       "      <td>...</td>\n",
       "      <td>...</td>\n",
       "      <td>...</td>\n",
       "      <td>...</td>\n",
       "      <td>...</td>\n",
       "      <td>...</td>\n",
       "      <td>...</td>\n",
       "      <td>...</td>\n",
       "      <td>...</td>\n",
       "      <td>...</td>\n",
       "    </tr>\n",
       "    <tr>\n",
       "      <th>14082</th>\n",
       "      <td>466</td>\n",
       "      <td>420</td>\n",
       "      <td>46</td>\n",
       "      <td>1228092</td>\n",
       "      <td>1223768</td>\n",
       "      <td>4324</td>\n",
       "      <td>4.978014</td>\n",
       "      <td>1968793.0</td>\n",
       "      <td>1961995.00</td>\n",
       "      <td>6797.89</td>\n",
       "      <td>...</td>\n",
       "      <td>84.170113</td>\n",
       "      <td>9.039749</td>\n",
       "      <td>-&gt;</td>\n",
       "      <td>CON</td>\n",
       "      <td>42496.0</td>\n",
       "      <td>83865.0</td>\n",
       "      <td>6.460323</td>\n",
       "      <td>0.000025</td>\n",
       "      <td>6.460298</td>\n",
       "      <td>Camera</td>\n",
       "    </tr>\n",
       "    <tr>\n",
       "      <th>14085</th>\n",
       "      <td>590</td>\n",
       "      <td>422</td>\n",
       "      <td>168</td>\n",
       "      <td>1234988</td>\n",
       "      <td>1223900</td>\n",
       "      <td>11088</td>\n",
       "      <td>4.978563</td>\n",
       "      <td>1979723.0</td>\n",
       "      <td>1962012.00</td>\n",
       "      <td>17711.10</td>\n",
       "      <td>...</td>\n",
       "      <td>84.562553</td>\n",
       "      <td>33.543816</td>\n",
       "      <td>-&gt;</td>\n",
       "      <td>CON</td>\n",
       "      <td>42496.0</td>\n",
       "      <td>81228.0</td>\n",
       "      <td>8.477456</td>\n",
       "      <td>0.000018</td>\n",
       "      <td>8.477438</td>\n",
       "      <td>Camera</td>\n",
       "    </tr>\n",
       "    <tr>\n",
       "      <th>14087</th>\n",
       "      <td>4</td>\n",
       "      <td>2</td>\n",
       "      <td>2</td>\n",
       "      <td>510</td>\n",
       "      <td>378</td>\n",
       "      <td>132</td>\n",
       "      <td>0.000129</td>\n",
       "      <td>1581395.0</td>\n",
       "      <td>1172093.00</td>\n",
       "      <td>4093023.00</td>\n",
       "      <td>...</td>\n",
       "      <td>7751.938477</td>\n",
       "      <td>7751.938477</td>\n",
       "      <td>&lt;?&gt;</td>\n",
       "      <td>CON</td>\n",
       "      <td>83.0</td>\n",
       "      <td>85.0</td>\n",
       "      <td>0.000000</td>\n",
       "      <td>0.000000</td>\n",
       "      <td>0.000000</td>\n",
       "      <td>Plug</td>\n",
       "    </tr>\n",
       "    <tr>\n",
       "      <th>14089</th>\n",
       "      <td>460</td>\n",
       "      <td>346</td>\n",
       "      <td>114</td>\n",
       "      <td>1006312</td>\n",
       "      <td>998788</td>\n",
       "      <td>7524</td>\n",
       "      <td>4.990145</td>\n",
       "      <td>1608546.0</td>\n",
       "      <td>1596590.00</td>\n",
       "      <td>11956.30</td>\n",
       "      <td>...</td>\n",
       "      <td>69.136261</td>\n",
       "      <td>22.644632</td>\n",
       "      <td>-&gt;</td>\n",
       "      <td>CON</td>\n",
       "      <td>42496.0</td>\n",
       "      <td>46935.0</td>\n",
       "      <td>8.489948</td>\n",
       "      <td>0.000030</td>\n",
       "      <td>8.489918</td>\n",
       "      <td>Camera</td>\n",
       "    </tr>\n",
       "    <tr>\n",
       "      <th>14094</th>\n",
       "      <td>550</td>\n",
       "      <td>428</td>\n",
       "      <td>122</td>\n",
       "      <td>1235244</td>\n",
       "      <td>1227192</td>\n",
       "      <td>8052</td>\n",
       "      <td>4.990144</td>\n",
       "      <td>1975592.0</td>\n",
       "      <td>1962789.00</td>\n",
       "      <td>12802.80</td>\n",
       "      <td>...</td>\n",
       "      <td>85.568680</td>\n",
       "      <td>24.247799</td>\n",
       "      <td>-&gt;</td>\n",
       "      <td>CON</td>\n",
       "      <td>42496.0</td>\n",
       "      <td>44093.0</td>\n",
       "      <td>8.489948</td>\n",
       "      <td>0.000030</td>\n",
       "      <td>8.489918</td>\n",
       "      <td>Camera</td>\n",
       "    </tr>\n",
       "  </tbody>\n",
       "</table>\n",
       "<p>12554 rows × 25 columns</p>\n",
       "</div>"
      ],
      "text/plain": [
       "       TotPkts  SrcPkts  DstPkts  TotBytes  SrcBytes  DstBytes       Dur  \\\n",
       "0           32       18       14      4332      2528      1804  1.675503   \n",
       "1           24       14       10      2526      1826       700  1.366122   \n",
       "4           34       18       16      4506      2546      1960  1.007425   \n",
       "5           34       20       14      4492      2674      1818  1.329584   \n",
       "6           24       14       10      2554      1854       700  0.926875   \n",
       "...        ...      ...      ...       ...       ...       ...       ...   \n",
       "14082      466      420       46   1228092   1223768      4324  4.978014   \n",
       "14085      590      422      168   1234988   1223900     11088  4.978563   \n",
       "14087        4        2        2       510       378       132  0.000129   \n",
       "14089      460      346      114   1006312    998788      7524  4.990145   \n",
       "14094      550      428      122   1235244   1227192      8052  4.990144   \n",
       "\n",
       "            Load     SrcLoad     DstLoad  ...      SrcRate      DstRate  Dir  \\\n",
       "0        19404.3    11401.90     8002.37  ...    10.146207     7.758864   ->   \n",
       "1        13621.0     9931.76     3689.27  ...     9.515987     6.587991   ->   \n",
       "4        33693.8    19098.10    14595.60  ...    16.874706    14.889446   ->   \n",
       "5        25451.5    15288.90    10162.50  ...    14.290184     9.777494   ->   \n",
       "6        20300.4    14862.80     5437.62  ...    14.025624     9.710048   ->   \n",
       "...          ...         ...         ...  ...          ...          ...  ...   \n",
       "14082  1968793.0  1961995.00     6797.89  ...    84.170113     9.039749   ->   \n",
       "14085  1979723.0  1962012.00    17711.10  ...    84.562553    33.543816   ->   \n",
       "14087  1581395.0  1172093.00  4093023.00  ...  7751.938477  7751.938477  <?>   \n",
       "14089  1608546.0  1596590.00    11956.30  ...    69.136261    22.644632   ->   \n",
       "14094  1975592.0  1962789.00    12802.80  ...    85.568680    24.247799   ->   \n",
       "\n",
       "       State   SrcWin   DstWin    TcpRtt    SynAck    AckDat  Sensor  \n",
       "0        CON  42496.0  43008.0  0.745406  0.000024  0.745382    Bulb  \n",
       "1        CON  42496.0  43520.0  0.116448  0.000018  0.116430    Bulb  \n",
       "4        CON  42496.0  43008.0  0.023110  0.000022  0.023088    Bulb  \n",
       "5        CON  42496.0  43008.0  0.474907  0.000023  0.474884    Bulb  \n",
       "6        CON  42496.0  43520.0  0.118611  0.000022  0.118589    Bulb  \n",
       "...      ...      ...      ...       ...       ...       ...     ...  \n",
       "14082    CON  42496.0  83865.0  6.460323  0.000025  6.460298  Camera  \n",
       "14085    CON  42496.0  81228.0  8.477456  0.000018  8.477438  Camera  \n",
       "14087    CON     83.0     85.0  0.000000  0.000000  0.000000    Plug  \n",
       "14089    CON  42496.0  46935.0  8.489948  0.000030  8.489918  Camera  \n",
       "14094    CON  42496.0  44093.0  8.489948  0.000030  8.489918  Camera  \n",
       "\n",
       "[12554 rows x 25 columns]"
      ]
     },
     "execution_count": 14,
     "metadata": {},
     "output_type": "execute_result"
    }
   ],
   "source": [
    "df_clean_cols"
   ]
  },
  {
   "cell_type": "markdown",
   "metadata": {},
   "source": [
    "###### Remove low variance columns"
   ]
  },
  {
   "cell_type": "code",
   "execution_count": 24,
   "metadata": {},
   "outputs": [
    {
     "name": "stdout",
     "output_type": "stream",
     "text": [
      "--> Threshold=0.00, Features=22\n",
      "Low variance features:  ['SrcRetra', 'Retrans', 'pRetran', 'DstRetra']\n",
      "--> Threshold=0.05, Features=21\n",
      "Low variance features:  ['pRetran', 'SrcRetra', 'Retrans', 'SynAck', 'DstRetra']\n",
      "--> Threshold=0.10, Features=21\n",
      "Low variance features:  ['pRetran', 'SrcRetra', 'Retrans', 'SynAck', 'DstRetra']\n",
      "--> Threshold=0.15, Features=21\n",
      "Low variance features:  ['pRetran', 'SrcRetra', 'Retrans', 'SynAck', 'DstRetra']\n",
      "--> Threshold=0.20, Features=21\n",
      "Low variance features:  ['pRetran', 'SrcRetra', 'Retrans', 'SynAck', 'DstRetra']\n",
      "--> Threshold=0.25, Features=21\n",
      "Low variance features:  ['pRetran', 'SrcRetra', 'Retrans', 'SynAck', 'DstRetra']\n",
      "--> Threshold=0.30, Features=21\n",
      "Low variance features:  ['pRetran', 'SrcRetra', 'Retrans', 'SynAck', 'DstRetra']\n",
      "--> Threshold=0.35, Features=21\n",
      "Low variance features:  ['pRetran', 'SrcRetra', 'Retrans', 'SynAck', 'DstRetra']\n",
      "--> Threshold=0.40, Features=21\n",
      "Low variance features:  ['pRetran', 'SrcRetra', 'Retrans', 'SynAck', 'DstRetra']\n",
      "--> Threshold=0.45, Features=21\n",
      "Low variance features:  ['pRetran', 'SrcRetra', 'Retrans', 'SynAck', 'DstRetra']\n",
      "--> Threshold=0.50, Features=20\n",
      "Low variance features:  ['pRetran', 'SrcRetra', 'DstLoss', 'Retrans', 'SynAck', 'DstRetra']\n",
      "--> Threshold=0.55, Features=20\n",
      "Low variance features:  ['pRetran', 'SrcRetra', 'DstLoss', 'Retrans', 'SynAck', 'DstRetra']\n"
     ]
    },
    {
     "data": {
      "image/png": "[encoded data removed]",
      "text/plain": [
       "<Figure size 432x288 with 1 Axes>"
      ]
     },
     "metadata": {
      "needs_background": "light"
     },
     "output_type": "display_data"
    }
   ],
   "source": [
    "from sklearn.feature_selection import VarianceThreshold\n",
    "import numpy as np\n",
    "from matplotlib import pyplot\n",
    "# split data into inputs and outputs\n",
    "X = df._get_numeric_data()\n",
    "#data = data.values\n",
    "y = df.values[:, -1]\n",
    "\n",
    "all_features = X.columns.to_list()\n",
    "thresholds = np.arange(0.0, 0.60, 0.05)\n",
    "\n",
    "results = list()\n",
    "for t in thresholds:\n",
    "    # define the transform\n",
    "    transform = VarianceThreshold(threshold=t)\n",
    "    # transform the input data\n",
    "    X_sel = transform.fit_transform(X)\n",
    "    # determine the number of input features\n",
    "    n_features = X_sel.shape[1]\n",
    "    remained_features = X[X.columns[transform.get_support(indices=True)]].columns.to_list()\n",
    "    print('--> Threshold=%.2f, Features=%d' % (t, n_features))\n",
    "    print(\"Low variance features: \", list(set(all_features) - set(remained_features)))\n",
    "    results.append(n_features)\n",
    "    \n",
    "# threshold vs number of selected features\n",
    "pyplot.plot(thresholds, results)\n",
    "pyplot.show()\n"
   ]
  },
  {
   "cell_type": "code",
   "execution_count": 26,
   "metadata": {
    "scrolled": false
   },
   "outputs": [
    {
     "name": "stdout",
     "output_type": "stream",
     "text": [
      "Already removed!\n",
      "Feature number => 23\n"
     ]
    }
   ],
   "source": [
    "# Drop columns\n",
    "useless_cols = ['SynAck', 'DstLoss']\n",
    "df_variance = df_clean_cols\n",
    "try:\n",
    "    df_variance.drop(useless_cols, axis=1, inplace=True)\n",
    "except KeyError as e:\n",
    "    print(\"Already removed!\")\n",
    "print(\"Feature number => {}\".format(df_variance.shape[1]))"
   ]
  },
  {
   "cell_type": "markdown",
   "metadata": {},
   "source": [
    "### Row with duplicated data"
   ]
  },
  {
   "cell_type": "code",
   "execution_count": 17,
   "metadata": {},
   "outputs": [
    {
     "name": "stdout",
     "output_type": "stream",
     "text": [
      "Size of the dataset before row cleaning: (12554, 23)\n",
      "True\n",
      "Size of the dataset after row cleaning: (11866, 23)\n"
     ]
    }
   ],
   "source": [
    "# check duplicates\n",
    "print(\"Size of the dataset before row cleaning:\", df_variance.shape)\n",
    "dups = df_variance.duplicated()\n",
    "print(dups.any())\n",
    "df_clean = df_variance.drop_duplicates(inplace=False)\n",
    "print(\"Size of the dataset after row cleaning:\", df_clean.shape)\n",
    "\n",
    "# TODO: clean only high value counts sensors"
   ]
  },
  {
   "cell_type": "code",
   "execution_count": 18,
   "metadata": {
    "scrolled": true
   },
   "outputs": [
    {
     "data": {
      "text/plain": [
       "Camera     6215\n",
       "Plug       2802\n",
       "SmartTv    1334\n",
       "Fire        692\n",
       "Thermo      433\n",
       "Bulb        390\n",
       "Name: Sensor, dtype: int64"
      ]
     },
     "execution_count": 18,
     "metadata": {},
     "output_type": "execute_result"
    }
   ],
   "source": [
    "df_clean['Sensor'].value_counts()"
   ]
  },
  {
   "cell_type": "markdown",
   "metadata": {},
   "source": [
    "## ML start"
   ]
  },
  {
   "cell_type": "code",
   "execution_count": 19,
   "metadata": {},
   "outputs": [],
   "source": [
    "from sklearn.utils import resample\n",
    "\n",
    "# Separate majority and minority classes\n",
    "df_camera = df_clean[df_clean.Sensor=='Camera']\n",
    "df_plug = df_clean[df_clean.Sensor=='Plug']\n",
    "df_tv = df_clean[df_clean.Sensor=='SmartTv']\n",
    "df_fire = df_clean[df_clean.Sensor=='Fire']\n",
    "df_thermo = df_clean[df_clean.Sensor=='Thermo']\n",
    "df_bulb = df_clean[df_clean.Sensor=='Bulb']\n",
    " \n",
    "# Downsample majority class\n",
    "df_camera_downsampled = resample(df_camera, \n",
    "                                 replace=False,    # sample without replacement\n",
    "                                 n_samples=500,     # to match minority class\n",
    "                                 random_state=123) # reproducible results\n",
    "\n",
    "df_plug_downsampled = resample(df_plug, \n",
    "                                 replace=False,    # sample without replacement\n",
    "                                 n_samples=500,     # to match minority class\n",
    "                                 random_state=123) # reproducible results\n",
    "df_tv_downsampled = resample(df_tv, \n",
    "                                 replace=False,    # sample without replacement\n",
    "                                 n_samples=500,     # to match minority class\n",
    "                                 random_state=123) # reproducible results\n",
    "\n",
    "df_fire_downsampled = resample(df_fire, \n",
    "                                 replace=False,    # sample without replacement\n",
    "                                 n_samples=500,     # to match minority class\n",
    "                                 random_state=123) # reproducible results\n",
    " \n",
    "df_downsampled = pd.concat([df_camera_downsampled, df_plug_downsampled, df_tv_downsampled, df_fire_downsampled, df_thermo, df_bulb])\n"
   ]
  },
  {
   "cell_type": "code",
   "execution_count": 20,
   "metadata": {},
   "outputs": [
    {
     "data": {
      "image/png": "[encoded data removed]",
      "text/plain": [
       "<Figure size 432x288 with 1 Axes>"
      ]
     },
     "metadata": {},
     "output_type": "display_data"
    }
   ],
   "source": [
    "df_downsampled['Sensor'].value_counts().plot(kind='pie')\n",
    "plt.show()"
   ]
  },
  {
   "cell_type": "code",
   "execution_count": 21,
   "metadata": {},
   "outputs": [
    {
     "name": "stdout",
     "output_type": "stream",
     "text": [
      "['Bulb' 'Camera' 'Fire' 'Plug' 'SmartTv' 'Thermo']\n",
      "0.49309245483528164\n"
     ]
    },
    {
     "name": "stderr",
     "output_type": "stream",
     "text": [
      "/home/antedo/.local/lib/python3.6/site-packages/sklearn/linear_model/_logistic.py:765: ConvergenceWarning: lbfgs failed to converge (status=1):\n",
      "STOP: TOTAL NO. of ITERATIONS REACHED LIMIT.\n",
      "\n",
      "Increase the number of iterations (max_iter) or scale the data as shown in:\n",
      "    https://scikit-learn.org/stable/modules/preprocessing.html\n",
      "Please also refer to the documentation for alternative solver options:\n",
      "    https://scikit-learn.org/stable/modules/linear_model.html#logistic-regression\n",
      "  extra_warning_msg=_LOGISTIC_SOLVER_CONVERGENCE_MSG)\n"
     ]
    }
   ],
   "source": [
    "from sklearn.linear_model import LogisticRegression\n",
    "from sklearn.metrics import accuracy_score\n",
    "import numpy as np\n",
    "# Separate input features (X) and target variable (y)\n",
    "numerics = ['int16', 'int32', 'int64', 'float16', 'float32', 'float64']\n",
    "\n",
    "y = df_downsampled.Sensor\n",
    "X = df_downsampled.drop(['Sensor'], axis=1) #.select_dtypes(include=numerics)\n",
    " \n",
    "# Train model\n",
    "clf_2 = LogisticRegression().fit(X, y)\n",
    " \n",
    "# Predict on training set\n",
    "pred_y_2 = clf_2.predict(X)\n",
    " \n",
    "# Is our model still predicting just one class?\n",
    "print( np.unique( pred_y_2 ) )\n",
    "# [0 1]\n",
    " \n",
    "# How's our accuracy?\n",
    "print( accuracy_score(y, pred_y_2) )"
   ]
  },
  {
   "cell_type": "code",
   "execution_count": 23,
   "metadata": {},
   "outputs": [
    {
     "data": {
      "image/png": "[encoded data removed]",
      "text/plain": [
       "<Figure size 432x288 with 2 Axes>"
      ]
     },
     "metadata": {
      "needs_background": "light"
     },
     "output_type": "display_data"
    }
   ],
   "source": [
    "from sklearn.metrics import confusion_matrix \n",
    "from sklearn.metrics import plot_confusion_matrix \n",
    "\n",
    "plot_confusion_matrix(clf_2, X, y, cmap=plt.cm.Blues)\n",
    "plt.show()"
   ]
  },
  {
   "cell_type": "code",
   "execution_count": null,
   "metadata": {},
   "outputs": [],
   "source": [
    "# attacco - no attacco\n",
    "# ognuno con la sua etichetta -> attacco / no attacco"
   ]
  }
 ],
 "metadata": {
  "kernelspec": {
   "display_name": "Python 3",
   "language": "python",
   "name": "python3"
  },
  "language_info": {
   "codemirror_mode": {
    "name": "ipython",
    "version": 3
   },
   "file_extension": ".py",
   "mimetype": "text/x-python",
   "name": "python",
   "nbconvert_exporter": "python",
   "pygments_lexer": "ipython3",
   "version": "3.6.9"
  }
 },
 "nbformat": 4,
 "nbformat_minor": 4
}
